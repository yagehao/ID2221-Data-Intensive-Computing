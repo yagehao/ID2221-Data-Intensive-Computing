{
 "cells": [
  {
   "cell_type": "code",
   "execution_count": 1,
   "metadata": {},
   "outputs": [],
   "source": [
    "import org.apache.spark.graphx._\n",
    "import org.apache.spark.rdd.RDD"
   ]
  },
  {
   "cell_type": "markdown",
   "metadata": {},
   "source": [
    "In this task you will work with GraphX to process graph-based data. To do this assignment, write a code\n",
    "in GraphX to build the following graph and provide answer the questions. This graph shows a small social\n",
    "network with users and their ages modeled as vertices and likes modeled as directed edges."
   ]
  },
  {
   "cell_type": "code",
   "execution_count": 2,
   "metadata": {},
   "outputs": [
    {
     "data": {
      "text/plain": [
       "Array_vertex = Array((1,(Alice,28)), (2,(Bob,27)), (3,(Charlie,65)), (4,(David,42)), (5,(Ed,55)), (6,(Fran,50)), (7,(Alex,55)))\n",
       "Array_edge = Array(Edge(2,1,7), Edge(2,4,2), Edge(3,2,4), Edge(3,6,3), Edge(4,1,1), Edge(5,2,2), Edge(5,3,8), Edge(5,6,3), Edge(7,5,3), Edge(7,6,4))\n"
      ]
     },
     "metadata": {},
     "output_type": "display_data",
     "source": "user"
    },
    {
     "data": {
      "text/plain": [
       "Array(Edge(2,1,7), Edge(2,4,2), Edge(3,2,4), Edge(3,6,3), Edge(4,1,1), Edge(5,2,2), Edge(5,3,8), Edge(5,6,3), Edge(7,5,3), Edge(7,6,4))"
      ]
     },
     "execution_count": 2,
     "metadata": {},
     "output_type": "execute_result"
    }
   ],
   "source": [
    "val Array_vertex = Array(\n",
    "    (1L,(\"Alice\",28)),\n",
    "    (2L,(\"Bob\",27)),\n",
    "    (3L,(\"Charlie\",65)),\n",
    "    (4L,(\"David\",42)),\n",
    "    (5L,(\"Ed\",55)),\n",
    "    (6L,(\"Fran\",50)),\n",
    "    (7L,(\"Alex\",55))\n",
    ")\n",
    "val Array_edge = Array(\n",
    "    Edge(2L,1L,7),\n",
    "    Edge(2L,4L,2),\n",
    "    Edge(3L,2L,4),\n",
    "    Edge(3L,6L,3),\n",
    "    Edge(4L,1L,1),\n",
    "    Edge(5L,2L,2),\n",
    "    Edge(5L,3L,8),\n",
    "    Edge(5L,6L,3),\n",
    "    Edge(7L,5L,3),\n",
    "    Edge(7L,6L,4)\n",
    ")"
   ]
  },
  {
   "cell_type": "code",
   "execution_count": 3,
   "metadata": {},
   "outputs": [
    {
     "data": {
      "text/plain": [
       "vertices = ParallelCollectionRDD[0] at parallelize at <console>:34\n",
       "edges = ParallelCollectionRDD[1] at parallelize at <console>:35\n",
       "graph = org.apache.spark.graphx.impl.GraphImpl@4be154a3\n"
      ]
     },
     "metadata": {},
     "output_type": "display_data",
     "source": "user"
    },
    {
     "data": {
      "text/plain": [
       "org.apache.spark.graphx.impl.GraphImpl@4be154a3"
      ]
     },
     "execution_count": 3,
     "metadata": {},
     "output_type": "execute_result"
    },
    {
     "name": "stdout",
     "output_type": "stream",
     "text": [
      "Charlie\n",
      "Alex\n",
      "Ed\n",
      "David\n",
      "Fran\n",
      "Bob likes Alice.\n",
      "Ed likes Bob.\n",
      "Ed likes Charlie.\n",
      "Ed likes Fran.\n",
      "Alex likes Ed.\n",
      "Alex likes Fran.\n",
      "Bob likes David.\n",
      "Charlie likes Bob.\n",
      "Charlie likes Fran.\n",
      "David likes Alice.\n",
      "Bob pretty likes Alice.\n",
      "Ed pretty likes Charlie.\n",
      "David is liked by 1 people\n",
      "Alice is liked by 2 people\n",
      "Fran is liked by 3 people\n",
      "Charlie is liked by 1 people\n",
      "Bob is liked by 2 people\n",
      "Alex is liked by 0 people\n",
      "Ed is liked by 1 people\n",
      "David\n",
      "Bob\n",
      "David is the oldest follower of Alice.\n",
      "Ed is the oldest follower of Charlie.\n",
      "Alex does not have any followers.\n",
      "Alex is the oldest follower of Ed.\n",
      "Bob is the oldest follower of David.\n",
      "Charlie is the oldest follower of Fran.\n",
      "Charlie is the oldest follower of Bob.\n"
     ]
    }
   ],
   "source": [
    "val vertices : RDD[(Long,(String, Int))] = sc.parallelize(Array_vertex)\n",
    "val edges : RDD[Edge[Int]]=sc.parallelize(Array_edge)\n",
    "\n",
    "val graph:Graph[(String,Int),Int] = Graph(vertices,edges)"
   ]
  },
  {
   "cell_type": "markdown",
   "metadata": {},
   "source": [
    "1.Display the names of the users that are at least 30 years old."
   ]
  },
  {
   "cell_type": "code",
   "execution_count": 4,
   "metadata": {},
   "outputs": [],
   "source": [
    "graph.vertices.filter{ case (id,(name,age)) => age >=30}.foreach{case (id,(name,age))=>println(name)}"
   ]
  },
  {
   "cell_type": "markdown",
   "metadata": {},
   "source": [
    "2.Display who likes who."
   ]
  },
  {
   "cell_type": "code",
   "execution_count": 5,
   "metadata": {},
   "outputs": [],
   "source": [
    "graph.triplets.foreach{ t=>\n",
    "    println(s\"${t.srcAttr._1} likes ${t.dstAttr._1}.\")\n",
    "}"
   ]
  },
  {
   "cell_type": "markdown",
   "metadata": {},
   "source": [
    "3.If someone likes someone else more than 5 times than that relationship is getting pretty serious, so\n",
    "now display the lovers"
   ]
  },
  {
   "cell_type": "code",
   "execution_count": 6,
   "metadata": {},
   "outputs": [],
   "source": [
    "graph.triplets.filter(t => t.attr > 5).foreach{ t=>\n",
    "    println(s\"${t.srcAttr._1} pretty likes ${t.dstAttr._1}.\")\n",
    "}"
   ]
  },
  {
   "cell_type": "markdown",
   "metadata": {},
   "source": [
    "4. Print the number of people who like each user (e.g., Alice is liked by 2 people)."
   ]
  },
  {
   "cell_type": "code",
   "execution_count": 7,
   "metadata": {},
   "outputs": [
    {
     "data": {
      "text/plain": [
       "inDegrees = VertexRDDImpl[25] at RDD at VertexRDD.scala:57\n"
      ]
     },
     "metadata": {},
     "output_type": "display_data",
     "source": "user"
    },
    {
     "data": {
      "text/plain": [
       "VertexRDDImpl[25] at RDD at VertexRDD.scala:57"
      ]
     },
     "execution_count": 7,
     "metadata": {},
     "output_type": "execute_result"
    }
   ],
   "source": [
    "val inDegrees : VertexRDD[Int] = graph.inDegrees"
   ]
  },
  {
   "cell_type": "code",
   "execution_count": 8,
   "metadata": {},
   "outputs": [
    {
     "data": {
      "text/plain": [
       "defined class degree\n",
       "graph_in = org.apache.spark.graphx.impl.GraphImpl@5a179bb5\n",
       "graph_degree_in = org.apache.spark.graphx.impl.GraphImpl@10ad63d9\n"
      ]
     },
     "metadata": {},
     "output_type": "display_data",
     "source": "user"
    },
    {
     "data": {
      "text/plain": [
       "org.apache.spark.graphx.impl.GraphImpl@10ad63d9"
      ]
     },
     "execution_count": 8,
     "metadata": {},
     "output_type": "execute_result"
    }
   ],
   "source": [
    "case class degree(name:String,inDegree:Int,outDegree:Int,age:Int)\n",
    "val graph_in = graph.mapVertices{case(id,(name,age))=>degree(name,0,0,age)}\n",
    "val graph_degree_in = graph_in.outerJoinVertices(graph_in.inDegrees){\n",
    "    case (id,v,inDegree) => degree(v.name,inDegree.getOrElse(0),0,v.age)\n",
    "}\n",
    "graph_degree_in.vertices.foreach{case(id,v)=>\n",
    "                    println(s\"${v.name} is liked by ${v.inDegree} people\")}"
   ]
  },
  {
   "cell_type": "markdown",
   "metadata": {},
   "source": [
    "5.Print the names of the users who are liked by the same number of people they like (e.g., Bob and David"
   ]
  },
  {
   "cell_type": "code",
   "execution_count": 9,
   "metadata": {},
   "outputs": [
    {
     "data": {
      "text/plain": [
       "graph_degree = org.apache.spark.graphx.impl.GraphImpl@11e06ef4\n"
      ]
     },
     "metadata": {},
     "output_type": "display_data",
     "source": "user"
    },
    {
     "data": {
      "text/plain": [
       "org.apache.spark.graphx.impl.GraphImpl@11e06ef4"
      ]
     },
     "execution_count": 9,
     "metadata": {},
     "output_type": "execute_result"
    }
   ],
   "source": [
    "val graph_degree = graph_degree_in.outerJoinVertices(graph_in.outDegrees){\n",
    "    case (id,v,outDegree) => degree(v.name,v.inDegree,outDegree.getOrElse(0),v.age)\n",
    "}\n",
    "graph_degree.vertices.filter{\n",
    "    case(id,v) =>v.inDegree==v.outDegree\n",
    "}.foreach{\n",
    "    case(id,v)=>println(v.name)\n",
    "}"
   ]
  },
  {
   "cell_type": "markdown",
   "metadata": {},
   "source": [
    "6. Find the oldest follower of each user (hint: use the aggregateMessages)."
   ]
  },
  {
   "cell_type": "code",
   "execution_count": 10,
   "metadata": {},
   "outputs": [
    {
     "data": {
      "text/plain": [
       "OldestFollower = VertexRDDImpl[63] at RDD at VertexRDD.scala:57\n"
      ]
     },
     "metadata": {},
     "output_type": "display_data",
     "source": "user"
    },
    {
     "data": {
      "text/plain": [
       "VertexRDDImpl[63] at RDD at VertexRDD.scala:57"
      ]
     },
     "execution_count": 10,
     "metadata": {},
     "output_type": "execute_result"
    }
   ],
   "source": [
    "val OldestFollower:VertexRDD[(Int,String)] = graph_degree.aggregateMessages[(Int,String)](\n",
    "    triplet => triplet.sendToDst(triplet.srcAttr.age, triplet.srcAttr.name),\n",
    "    (a,b) => if (a._1>b._1) a else b\n",
    "    )"
   ]
  },
  {
   "cell_type": "code",
   "execution_count": 11,
   "metadata": {},
   "outputs": [],
   "source": [
    "graph_degree.vertices.leftJoin(OldestFollower){(id, v, OF)=> OF match {\n",
    "    case Some((age, name)) => s\"${name} is the oldest follower of ${v.name}.\"\n",
    "    case None => s\"${v.name} does not have any followers.\"\n",
    "}\n",
    "}.foreach { case (id, string) => println(string)}\n"
   ]
  },
  {
   "cell_type": "code",
   "execution_count": null,
   "metadata": {},
   "outputs": [],
   "source": []
  }
 ],
 "metadata": {
  "kernelspec": {
   "display_name": "Apache Toree - Scala",
   "language": "scala",
   "name": "apache_toree_scala"
  },
  "language_info": {
   "codemirror_mode": "text/x-scala",
   "file_extension": ".scala",
   "mimetype": "text/x-scala",
   "name": "scala",
   "pygments_lexer": "scala",
   "version": "2.11.12"
  }
 },
 "nbformat": 4,
 "nbformat_minor": 4
}
