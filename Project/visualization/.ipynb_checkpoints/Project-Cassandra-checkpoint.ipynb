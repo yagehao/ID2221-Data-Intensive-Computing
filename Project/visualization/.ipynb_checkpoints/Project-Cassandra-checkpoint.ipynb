{
 "cells": [
  {
   "cell_type": "markdown",
   "metadata": {},
   "source": [
    "# ID2221 Denta Intensive Computing Project"
   ]
  },
  {
   "cell_type": "markdown",
   "metadata": {},
   "source": [
    "## Initialization\n",
    "Run this part only once."
   ]
  },
  {
   "cell_type": "code",
   "execution_count": 1,
   "metadata": {},
   "outputs": [
    {
     "name": "stdout",
     "output_type": "stream",
     "text": [
      "Requirement already satisfied: pyecharts==1.7.1 in /home/osboxes/anaconda3/lib/python3.7/site-packages (1.7.1)\n",
      "Requirement already satisfied: jinja2 in /home/osboxes/anaconda3/lib/python3.7/site-packages (from pyecharts==1.7.1) (2.11.1)\n",
      "Requirement already satisfied: prettytable in /home/osboxes/anaconda3/lib/python3.7/site-packages (from pyecharts==1.7.1) (2.2.1)\n",
      "Requirement already satisfied: simplejson in /home/osboxes/anaconda3/lib/python3.7/site-packages (from pyecharts==1.7.1) (3.17.5)\n",
      "Requirement already satisfied: MarkupSafe>=0.23 in /home/osboxes/anaconda3/lib/python3.7/site-packages (from jinja2->pyecharts==1.7.1) (1.1.1)\n",
      "Requirement already satisfied: importlib-metadata; python_version < \"3.8\" in /home/osboxes/anaconda3/lib/python3.7/site-packages (from prettytable->pyecharts==1.7.1) (1.5.0)\n",
      "Requirement already satisfied: wcwidth in /home/osboxes/anaconda3/lib/python3.7/site-packages (from prettytable->pyecharts==1.7.1) (0.1.8)\n",
      "Requirement already satisfied: zipp>=0.5 in /home/osboxes/anaconda3/lib/python3.7/site-packages (from importlib-metadata; python_version < \"3.8\"->prettytable->pyecharts==1.7.1) (2.2.0)\n",
      "Note: you may need to restart the kernel to use updated packages.\n"
     ]
    }
   ],
   "source": [
    "pip install pyecharts==1.7.1"
   ]
  },
  {
   "cell_type": "code",
   "execution_count": 2,
   "metadata": {},
   "outputs": [
    {
     "name": "stdout",
     "output_type": "stream",
     "text": [
      "Requirement already satisfied: jupyter-echarts-pypkg in /home/osboxes/anaconda3/lib/python3.7/site-packages (0.1.5)\n",
      "Requirement already satisfied: lml>=0.0.2 in /home/osboxes/anaconda3/lib/python3.7/site-packages (from jupyter-echarts-pypkg) (0.1.0)\n",
      "Requirement already satisfied: pyecharts-jupyter-installer==0.0.3 in /home/osboxes/anaconda3/lib/python3.7/site-packages (from jupyter-echarts-pypkg) (0.0.3)\n",
      "Note: you may need to restart the kernel to use updated packages.\n"
     ]
    }
   ],
   "source": [
    "pip install jupyter-echarts-pypkg"
   ]
  },
  {
   "cell_type": "code",
   "execution_count": 3,
   "metadata": {},
   "outputs": [
    {
     "name": "stdout",
     "output_type": "stream",
     "text": [
      "Requirement already satisfied: echarts-countries-pypkg in /home/osboxes/anaconda3/lib/python3.7/site-packages (0.1.6)\n",
      "Requirement already satisfied: pyecharts-jupyter-installer==0.0.3 in /home/osboxes/anaconda3/lib/python3.7/site-packages (from echarts-countries-pypkg) (0.0.3)\n",
      "Requirement already satisfied: lml>=0.0.2 in /home/osboxes/anaconda3/lib/python3.7/site-packages (from echarts-countries-pypkg) (0.1.0)\n",
      "Note: you may need to restart the kernel to use updated packages.\n"
     ]
    }
   ],
   "source": [
    "pip install echarts-countries-pypkg"
   ]
  },
  {
   "cell_type": "code",
   "execution_count": 4,
   "metadata": {},
   "outputs": [
    {
     "name": "stdout",
     "output_type": "stream",
     "text": [
      "Requirement already satisfied: echarts in /home/osboxes/anaconda3/lib/python3.7/site-packages (0.0.0)\n",
      "Requirement already satisfied: peppercorn in /home/osboxes/anaconda3/lib/python3.7/site-packages (from echarts) (0.6)\n",
      "Note: you may need to restart the kernel to use updated packages.\n"
     ]
    }
   ],
   "source": [
    "pip install echarts"
   ]
  },
  {
   "cell_type": "code",
   "execution_count": 2,
   "metadata": {},
   "outputs": [
    {
     "name": "stdout",
     "output_type": "stream",
     "text": [
      "Collecting cassandra-driver\n",
      "  Downloading cassandra_driver-3.25.0-cp37-cp37m-manylinux1_x86_64.whl (3.8 MB)\n",
      "\u001b[K     |████████████████████████████████| 3.8 MB 13.5 MB/s eta 0:00:01     |███▎                            | 389 kB 13.5 MB/s eta 0:00:01\n",
      "\u001b[?25hRequirement already satisfied: six>=1.9 in /home/osboxes/anaconda3/lib/python3.7/site-packages (from cassandra-driver) (1.14.0)\n",
      "Collecting geomet<0.3,>=0.1\n",
      "  Downloading geomet-0.2.1.post1-py3-none-any.whl (18 kB)\n",
      "Requirement already satisfied: click in /home/osboxes/anaconda3/lib/python3.7/site-packages (from geomet<0.3,>=0.1->cassandra-driver) (7.0)\n",
      "Installing collected packages: geomet, cassandra-driver\n",
      "Successfully installed cassandra-driver-3.25.0 geomet-0.2.1.post1\n",
      "Note: you may need to restart the kernel to use updated packages.\n"
     ]
    }
   ],
   "source": [
    "pip install cassandra-driver"
   ]
  },
  {
   "cell_type": "code",
   "execution_count": 1,
   "metadata": {},
   "outputs": [],
   "source": [
    "import pyecharts\n",
    "from pyecharts.charts import Map,Geo\n",
    "from pyecharts import options as opts\n",
    "from pyecharts.globals import ThemeType"
   ]
  },
  {
   "cell_type": "code",
   "execution_count": 2,
   "metadata": {},
   "outputs": [],
   "source": [
    "import pandas as pd\n",
    "import os\n",
    "import json\n",
    "import re\n",
    "import pickle"
   ]
  },
  {
   "cell_type": "code",
   "execution_count": 3,
   "metadata": {},
   "outputs": [],
   "source": [
    "from cassandra.cluster import Cluster\n",
    "from cassandra.auth import PlainTextAuthProvider\n",
    "from cassandra.query import dict_factory"
   ]
  },
  {
   "cell_type": "code",
   "execution_count": 7,
   "metadata": {},
   "outputs": [],
   "source": [
    "cluster = Cluster() #连接本地数据库，如果是本地地址，写不写都可以\n",
    "cluster = Cluster(['127.0.0.1']) #连接本地数据库\n",
    "session = cluster.connect('covid') #指定连接keyspace"
   ]
  },
  {
   "cell_type": "code",
   "execution_count": 10,
   "metadata": {},
   "outputs": [],
   "source": [
    "# Read data from Cassandra to Pandas\n",
    "\n",
    "def pandas_factory(colnames, rows):\n",
    "    return pd.DataFrame(rows, columns=colnames)\n",
    "\n",
    "session.row_factory = pandas_factory\n",
    "session.default_fetch_size = None"
   ]
  },
  {
   "cell_type": "markdown",
   "metadata": {},
   "source": [
    "## Task1: Vaccination status by country"
   ]
  },
  {
   "cell_type": "code",
   "execution_count": 11,
   "metadata": {},
   "outputs": [],
   "source": [
    "query = \"SELECT * from status;\"\n",
    "rslt = session.execute(query, timeout=None)\n",
    "df1 = rslt._current_rows"
   ]
  },
  {
   "cell_type": "code",
   "execution_count": 12,
   "metadata": {},
   "outputs": [
    {
     "data": {
      "text/html": [
       "<div>\n",
       "<style scoped>\n",
       "    .dataframe tbody tr th:only-of-type {\n",
       "        vertical-align: middle;\n",
       "    }\n",
       "\n",
       "    .dataframe tbody tr th {\n",
       "        vertical-align: top;\n",
       "    }\n",
       "\n",
       "    .dataframe thead th {\n",
       "        text-align: right;\n",
       "    }\n",
       "</style>\n",
       "<table border=\"1\" class=\"dataframe\">\n",
       "  <thead>\n",
       "    <tr style=\"text-align: right;\">\n",
       "      <th></th>\n",
       "      <th>key</th>\n",
       "      <th>per1</th>\n",
       "      <th>per2</th>\n",
       "    </tr>\n",
       "  </thead>\n",
       "  <tbody>\n",
       "    <tr>\n",
       "      <th>0</th>\n",
       "      <td>HR</td>\n",
       "      <td>0.452801</td>\n",
       "      <td>0.400827</td>\n",
       "    </tr>\n",
       "    <tr>\n",
       "      <th>1</th>\n",
       "      <td>AT</td>\n",
       "      <td>0.626111</td>\n",
       "      <td>0.560687</td>\n",
       "    </tr>\n",
       "    <tr>\n",
       "      <th>2</th>\n",
       "      <td>FR</td>\n",
       "      <td>0.697618</td>\n",
       "      <td>0.609797</td>\n",
       "    </tr>\n",
       "    <tr>\n",
       "      <th>3</th>\n",
       "      <td>EL</td>\n",
       "      <td>0.587633</td>\n",
       "      <td>0.528289</td>\n",
       "    </tr>\n",
       "    <tr>\n",
       "      <th>4</th>\n",
       "      <td>BE</td>\n",
       "      <td>0.694061</td>\n",
       "      <td>0.650148</td>\n",
       "    </tr>\n",
       "    <tr>\n",
       "      <th>5</th>\n",
       "      <td>HU</td>\n",
       "      <td>0.569978</td>\n",
       "      <td>0.534157</td>\n",
       "    </tr>\n",
       "    <tr>\n",
       "      <th>6</th>\n",
       "      <td>IT</td>\n",
       "      <td>0.729086</td>\n",
       "      <td>0.638284</td>\n",
       "    </tr>\n",
       "    <tr>\n",
       "      <th>7</th>\n",
       "      <td>SK</td>\n",
       "      <td>0.436379</td>\n",
       "      <td>0.408683</td>\n",
       "    </tr>\n",
       "    <tr>\n",
       "      <th>8</th>\n",
       "      <td>IS</td>\n",
       "      <td>0.714720</td>\n",
       "      <td>0.559011</td>\n",
       "    </tr>\n",
       "    <tr>\n",
       "      <th>9</th>\n",
       "      <td>DK</td>\n",
       "      <td>0.713928</td>\n",
       "      <td>0.697330</td>\n",
       "    </tr>\n",
       "    <tr>\n",
       "      <th>10</th>\n",
       "      <td>LU</td>\n",
       "      <td>0.617526</td>\n",
       "      <td>0.541721</td>\n",
       "    </tr>\n",
       "    <tr>\n",
       "      <th>11</th>\n",
       "      <td>DE</td>\n",
       "      <td>0.685317</td>\n",
       "      <td>0.613656</td>\n",
       "    </tr>\n",
       "    <tr>\n",
       "      <th>12</th>\n",
       "      <td>FI</td>\n",
       "      <td>0.703985</td>\n",
       "      <td>0.637874</td>\n",
       "    </tr>\n",
       "    <tr>\n",
       "      <th>13</th>\n",
       "      <td>LV</td>\n",
       "      <td>0.452122</td>\n",
       "      <td>0.353181</td>\n",
       "    </tr>\n",
       "    <tr>\n",
       "      <th>14</th>\n",
       "      <td>IE</td>\n",
       "      <td>0.705176</td>\n",
       "      <td>0.648196</td>\n",
       "    </tr>\n",
       "    <tr>\n",
       "      <th>15</th>\n",
       "      <td>SE</td>\n",
       "      <td>0.672402</td>\n",
       "      <td>0.637510</td>\n",
       "    </tr>\n",
       "    <tr>\n",
       "      <th>16</th>\n",
       "      <td>PL</td>\n",
       "      <td>0.514050</td>\n",
       "      <td>0.442508</td>\n",
       "    </tr>\n",
       "    <tr>\n",
       "      <th>17</th>\n",
       "      <td>LT</td>\n",
       "      <td>0.612114</td>\n",
       "      <td>0.505689</td>\n",
       "    </tr>\n",
       "    <tr>\n",
       "      <th>18</th>\n",
       "      <td>MT</td>\n",
       "      <td>0.771171</td>\n",
       "      <td>0.705982</td>\n",
       "    </tr>\n",
       "    <tr>\n",
       "      <th>19</th>\n",
       "      <td>SI</td>\n",
       "      <td>0.525824</td>\n",
       "      <td>0.423524</td>\n",
       "    </tr>\n",
       "    <tr>\n",
       "      <th>20</th>\n",
       "      <td>RO</td>\n",
       "      <td>0.294661</td>\n",
       "      <td>0.235566</td>\n",
       "    </tr>\n",
       "    <tr>\n",
       "      <th>21</th>\n",
       "      <td>LI</td>\n",
       "      <td>0.613518</td>\n",
       "      <td>0.542648</td>\n",
       "    </tr>\n",
       "    <tr>\n",
       "      <th>22</th>\n",
       "      <td>NO</td>\n",
       "      <td>0.725345</td>\n",
       "      <td>0.683525</td>\n",
       "    </tr>\n",
       "    <tr>\n",
       "      <th>23</th>\n",
       "      <td>BG</td>\n",
       "      <td>0.205935</td>\n",
       "      <td>0.166605</td>\n",
       "    </tr>\n",
       "    <tr>\n",
       "      <th>24</th>\n",
       "      <td>EE</td>\n",
       "      <td>0.545001</td>\n",
       "      <td>0.476311</td>\n",
       "    </tr>\n",
       "    <tr>\n",
       "      <th>25</th>\n",
       "      <td>ES</td>\n",
       "      <td>0.747226</td>\n",
       "      <td>0.642731</td>\n",
       "    </tr>\n",
       "    <tr>\n",
       "      <th>26</th>\n",
       "      <td>PT</td>\n",
       "      <td>0.818260</td>\n",
       "      <td>0.645666</td>\n",
       "    </tr>\n",
       "    <tr>\n",
       "      <th>27</th>\n",
       "      <td>NL</td>\n",
       "      <td>0.702985</td>\n",
       "      <td>0.590952</td>\n",
       "    </tr>\n",
       "    <tr>\n",
       "      <th>28</th>\n",
       "      <td>CZ</td>\n",
       "      <td>0.548217</td>\n",
       "      <td>0.516926</td>\n",
       "    </tr>\n",
       "    <tr>\n",
       "      <th>29</th>\n",
       "      <td>CY</td>\n",
       "      <td>0.654072</td>\n",
       "      <td>0.612343</td>\n",
       "    </tr>\n",
       "  </tbody>\n",
       "</table>\n",
       "</div>"
      ],
      "text/plain": [
       "   key      per1      per2\n",
       "0   HR  0.452801  0.400827\n",
       "1   AT  0.626111  0.560687\n",
       "2   FR  0.697618  0.609797\n",
       "3   EL  0.587633  0.528289\n",
       "4   BE  0.694061  0.650148\n",
       "5   HU  0.569978  0.534157\n",
       "6   IT  0.729086  0.638284\n",
       "7   SK  0.436379  0.408683\n",
       "8   IS  0.714720  0.559011\n",
       "9   DK  0.713928  0.697330\n",
       "10  LU  0.617526  0.541721\n",
       "11  DE  0.685317  0.613656\n",
       "12  FI  0.703985  0.637874\n",
       "13  LV  0.452122  0.353181\n",
       "14  IE  0.705176  0.648196\n",
       "15  SE  0.672402  0.637510\n",
       "16  PL  0.514050  0.442508\n",
       "17  LT  0.612114  0.505689\n",
       "18  MT  0.771171  0.705982\n",
       "19  SI  0.525824  0.423524\n",
       "20  RO  0.294661  0.235566\n",
       "21  LI  0.613518  0.542648\n",
       "22  NO  0.725345  0.683525\n",
       "23  BG  0.205935  0.166605\n",
       "24  EE  0.545001  0.476311\n",
       "25  ES  0.747226  0.642731\n",
       "26  PT  0.818260  0.645666\n",
       "27  NL  0.702985  0.590952\n",
       "28  CZ  0.548217  0.516926\n",
       "29  CY  0.654072  0.612343"
      ]
     },
     "execution_count": 12,
     "metadata": {},
     "output_type": "execute_result"
    }
   ],
   "source": [
    "df1"
   ]
  },
  {
   "cell_type": "code",
   "execution_count": 13,
   "metadata": {},
   "outputs": [],
   "source": [
    "a_file = open(\"country_dict.pkl\", \"rb\")\n",
    "country = pickle.load(a_file)\n",
    "CountryName = []\n",
    "CountryCode=list(df1[\"key\"])\n",
    "for i in range(len(CountryCode)):\n",
    "    CountryName.append(country[CountryCode[i]])\n",
    "a_file.close()"
   ]
  },
  {
   "cell_type": "code",
   "execution_count": 14,
   "metadata": {},
   "outputs": [],
   "source": [
    "per1=list(df1['per1'])\n",
    "per2=list(df1['per2'])"
   ]
  },
  {
   "cell_type": "code",
   "execution_count": 15,
   "metadata": {},
   "outputs": [],
   "source": [
    "list1 =[(CountryName[i],round(per1[i]*100,2)) for i in range(len(CountryName))]\n",
    "list2 =[(CountryName[i],round(per2[i]*100,2)) for i in range(len(CountryName))]"
   ]
  },
  {
   "cell_type": "code",
   "execution_count": 16,
   "metadata": {},
   "outputs": [
    {
     "data": {
      "text/plain": [
       "'/home/osboxes/Desktop/Project/visualization/map1.html'"
      ]
     },
     "execution_count": 16,
     "metadata": {},
     "output_type": "execute_result"
    }
   ],
   "source": [
    "map_1 =Map(init_opts=opts.InitOpts(width =\"1000px\",height=\"460px\"))\n",
    "map_1.add(\"Percentage of one dose\",list1,maptype=\"world\"\n",
    "         ,is_map_symbol_show=False)\n",
    "map_1.set_global_opts( \n",
    " visualmap_opts=opts.VisualMapOpts(min_=0,max_=100, is_piecewise=True,pieces=[\n",
    "     {'min': 80,\"color\":\"green\"},\n",
    " {'min': 70, \"max\": 79.99,\"color\":\"limegreen\"},\n",
    " {'min': 60, \"max\": 69.99,\"color\":\"lime\"},\n",
    " {'min': 50, \"max\": 59.99,\"color\":\"yellow\"},\n",
    " {'min': 40, \"max\": 49.99,\"color\":\"orange\"},\n",
    "    {'min': 0, \"max\": 39.99,\"color\":\"red\"}]),\n",
    "    title_opts =opts.TitleOpts(\n",
    "    title='Percentage of people who have received one dose of COVID-19 vaccine in EU/EEA',\n",
    "    subtitle ='until week 41 2021',\n",
    "    title_textstyle_opts=opts.TextStyleOpts(font_size=14)),\n",
    " legend_opts=opts.LegendOpts(is_show=False), \n",
    " )\n",
    "map_1.set_series_opts(label_opts=opts.LabelOpts(is_show=False))\n",
    "map_1.render('map1.html')"
   ]
  },
  {
   "cell_type": "code",
   "execution_count": 17,
   "metadata": {},
   "outputs": [
    {
     "data": {
      "text/html": [
       "\n",
       "        <iframe\n",
       "            width=\"600\"\n",
       "            height=\"460\"\n",
       "            src=\"./map1.html\"\n",
       "            frameborder=\"0\"\n",
       "            allowfullscreen\n",
       "        ></iframe>\n",
       "        "
      ],
      "text/plain": [
       "<IPython.lib.display.IFrame at 0x7fcd6cef6410>"
      ]
     },
     "execution_count": 17,
     "metadata": {},
     "output_type": "execute_result"
    }
   ],
   "source": [
    "from IPython.display import IFrame\n",
    "IFrame(src='./map1.html', width=600, height=460)"
   ]
  },
  {
   "cell_type": "code",
   "execution_count": 18,
   "metadata": {},
   "outputs": [
    {
     "data": {
      "text/plain": [
       "'/home/osboxes/Desktop/Project/visualization/map2.html'"
      ]
     },
     "execution_count": 18,
     "metadata": {},
     "output_type": "execute_result"
    }
   ],
   "source": [
    "map_2 =Map(init_opts=opts.InitOpts(width =\"1000px\",height=\"460px\"))\n",
    "map_2.add(\"Percentage of two doses\",list2,maptype=\"world\"\n",
    "         ,is_map_symbol_show=False)\n",
    "map_2.set_global_opts( \n",
    " visualmap_opts=opts.VisualMapOpts(min_=0,max_=100, is_piecewise=True,pieces=[\n",
    "  {'min': 80,\"color\":\"green\"},\n",
    " {'min': 70, \"max\": 79.99,\"color\":\"limegreen\"},\n",
    " {'min': 60, \"max\": 69.99,\"color\":\"lime\"},\n",
    " {'min': 50, \"max\": 59.99,\"color\":\"yellow\"},\n",
    " {'min': 40, \"max\": 49.99,\"color\":\"orange\"},\n",
    "    {'min': 0, \"max\": 39.99,\"color\":\"red\"}]),\n",
    "    title_opts =opts.TitleOpts(\n",
    "    title='Percentage of people who have received two doses of COVID-19 vaccine in EU/EEA',\n",
    "    subtitle ='until week 41 2021',\n",
    "    title_textstyle_opts=opts.TextStyleOpts(font_size=14)),\n",
    " legend_opts=opts.LegendOpts(is_show=False), \n",
    " )\n",
    "map_2.set_series_opts(label_opts=opts.LabelOpts(is_show=False))\n",
    "map_2.render('map2.html')"
   ]
  },
  {
   "cell_type": "code",
   "execution_count": 19,
   "metadata": {},
   "outputs": [
    {
     "data": {
      "text/html": [
       "\n",
       "        <iframe\n",
       "            width=\"600\"\n",
       "            height=\"460\"\n",
       "            src=\"./map2.html\"\n",
       "            frameborder=\"0\"\n",
       "            allowfullscreen\n",
       "        ></iframe>\n",
       "        "
      ],
      "text/plain": [
       "<IPython.lib.display.IFrame at 0x7fcd6cf62710>"
      ]
     },
     "execution_count": 19,
     "metadata": {},
     "output_type": "execute_result"
    }
   ],
   "source": [
    "IFrame(src='./map2.html', width=600, height=460)"
   ]
  },
  {
   "cell_type": "markdown",
   "metadata": {},
   "source": [
    "## Task 2: Vaccination status of the elderly by country"
   ]
  },
  {
   "cell_type": "code",
   "execution_count": 20,
   "metadata": {},
   "outputs": [],
   "source": [
    "query = \"SELECT * from elder_status;\"\n",
    "rslt = session.execute(query, timeout=None)\n",
    "df2 = rslt._current_rows"
   ]
  },
  {
   "cell_type": "code",
   "execution_count": 21,
   "metadata": {},
   "outputs": [
    {
     "data": {
      "text/html": [
       "<div>\n",
       "<style scoped>\n",
       "    .dataframe tbody tr th:only-of-type {\n",
       "        vertical-align: middle;\n",
       "    }\n",
       "\n",
       "    .dataframe tbody tr th {\n",
       "        vertical-align: top;\n",
       "    }\n",
       "\n",
       "    .dataframe thead th {\n",
       "        text-align: right;\n",
       "    }\n",
       "</style>\n",
       "<table border=\"1\" class=\"dataframe\">\n",
       "  <thead>\n",
       "    <tr style=\"text-align: right;\">\n",
       "      <th></th>\n",
       "      <th>key</th>\n",
       "      <th>per1</th>\n",
       "      <th>per2</th>\n",
       "    </tr>\n",
       "  </thead>\n",
       "  <tbody>\n",
       "    <tr>\n",
       "      <th>0</th>\n",
       "      <td>HR</td>\n",
       "      <td>0.703286</td>\n",
       "      <td>0.661299</td>\n",
       "    </tr>\n",
       "    <tr>\n",
       "      <th>1</th>\n",
       "      <td>AT</td>\n",
       "      <td>0.892389</td>\n",
       "      <td>0.844610</td>\n",
       "    </tr>\n",
       "    <tr>\n",
       "      <th>2</th>\n",
       "      <td>FR</td>\n",
       "      <td>0.917661</td>\n",
       "      <td>0.835064</td>\n",
       "    </tr>\n",
       "    <tr>\n",
       "      <th>3</th>\n",
       "      <td>EL</td>\n",
       "      <td>0.796569</td>\n",
       "      <td>0.766452</td>\n",
       "    </tr>\n",
       "    <tr>\n",
       "      <th>4</th>\n",
       "      <td>BE</td>\n",
       "      <td>0.938750</td>\n",
       "      <td>0.908917</td>\n",
       "    </tr>\n",
       "    <tr>\n",
       "      <th>5</th>\n",
       "      <td>HU</td>\n",
       "      <td>0.811822</td>\n",
       "      <td>0.783969</td>\n",
       "    </tr>\n",
       "    <tr>\n",
       "      <th>6</th>\n",
       "      <td>IT</td>\n",
       "      <td>0.933140</td>\n",
       "      <td>0.848929</td>\n",
       "    </tr>\n",
       "    <tr>\n",
       "      <th>7</th>\n",
       "      <td>SK</td>\n",
       "      <td>0.670328</td>\n",
       "      <td>0.650265</td>\n",
       "    </tr>\n",
       "    <tr>\n",
       "      <th>8</th>\n",
       "      <td>IS</td>\n",
       "      <td>1.039256</td>\n",
       "      <td>1.017118</td>\n",
       "    </tr>\n",
       "    <tr>\n",
       "      <th>9</th>\n",
       "      <td>DK</td>\n",
       "      <td>0.991448</td>\n",
       "      <td>0.992736</td>\n",
       "    </tr>\n",
       "    <tr>\n",
       "      <th>10</th>\n",
       "      <td>LU</td>\n",
       "      <td>0.867765</td>\n",
       "      <td>0.827194</td>\n",
       "    </tr>\n",
       "    <tr>\n",
       "      <th>11</th>\n",
       "      <td>FI</td>\n",
       "      <td>0.953876</td>\n",
       "      <td>0.917201</td>\n",
       "    </tr>\n",
       "    <tr>\n",
       "      <th>12</th>\n",
       "      <td>LV</td>\n",
       "      <td>0.553748</td>\n",
       "      <td>0.459611</td>\n",
       "    </tr>\n",
       "    <tr>\n",
       "      <th>13</th>\n",
       "      <td>IE</td>\n",
       "      <td>1.040682</td>\n",
       "      <td>1.022583</td>\n",
       "    </tr>\n",
       "    <tr>\n",
       "      <th>14</th>\n",
       "      <td>SE</td>\n",
       "      <td>0.943071</td>\n",
       "      <td>0.923042</td>\n",
       "    </tr>\n",
       "    <tr>\n",
       "      <th>15</th>\n",
       "      <td>PL</td>\n",
       "      <td>0.776156</td>\n",
       "      <td>0.715291</td>\n",
       "    </tr>\n",
       "    <tr>\n",
       "      <th>16</th>\n",
       "      <td>LT</td>\n",
       "      <td>0.761618</td>\n",
       "      <td>0.689241</td>\n",
       "    </tr>\n",
       "    <tr>\n",
       "      <th>17</th>\n",
       "      <td>MT</td>\n",
       "      <td>1.006571</td>\n",
       "      <td>0.981737</td>\n",
       "    </tr>\n",
       "    <tr>\n",
       "      <th>18</th>\n",
       "      <td>SI</td>\n",
       "      <td>0.797653</td>\n",
       "      <td>0.724220</td>\n",
       "    </tr>\n",
       "    <tr>\n",
       "      <th>19</th>\n",
       "      <td>RO</td>\n",
       "      <td>0.364155</td>\n",
       "      <td>0.321712</td>\n",
       "    </tr>\n",
       "    <tr>\n",
       "      <th>20</th>\n",
       "      <td>NO</td>\n",
       "      <td>0.986849</td>\n",
       "      <td>0.970864</td>\n",
       "    </tr>\n",
       "    <tr>\n",
       "      <th>21</th>\n",
       "      <td>BG</td>\n",
       "      <td>0.306573</td>\n",
       "      <td>0.275721</td>\n",
       "    </tr>\n",
       "    <tr>\n",
       "      <th>22</th>\n",
       "      <td>EE</td>\n",
       "      <td>0.732817</td>\n",
       "      <td>0.685788</td>\n",
       "    </tr>\n",
       "    <tr>\n",
       "      <th>23</th>\n",
       "      <td>ES</td>\n",
       "      <td>0.997053</td>\n",
       "      <td>0.937481</td>\n",
       "    </tr>\n",
       "    <tr>\n",
       "      <th>24</th>\n",
       "      <td>PT</td>\n",
       "      <td>1.039928</td>\n",
       "      <td>0.949431</td>\n",
       "    </tr>\n",
       "    <tr>\n",
       "      <th>25</th>\n",
       "      <td>CZ</td>\n",
       "      <td>0.821092</td>\n",
       "      <td>0.781834</td>\n",
       "    </tr>\n",
       "    <tr>\n",
       "      <th>26</th>\n",
       "      <td>CY</td>\n",
       "      <td>0.936745</td>\n",
       "      <td>0.909448</td>\n",
       "    </tr>\n",
       "  </tbody>\n",
       "</table>\n",
       "</div>"
      ],
      "text/plain": [
       "   key      per1      per2\n",
       "0   HR  0.703286  0.661299\n",
       "1   AT  0.892389  0.844610\n",
       "2   FR  0.917661  0.835064\n",
       "3   EL  0.796569  0.766452\n",
       "4   BE  0.938750  0.908917\n",
       "5   HU  0.811822  0.783969\n",
       "6   IT  0.933140  0.848929\n",
       "7   SK  0.670328  0.650265\n",
       "8   IS  1.039256  1.017118\n",
       "9   DK  0.991448  0.992736\n",
       "10  LU  0.867765  0.827194\n",
       "11  FI  0.953876  0.917201\n",
       "12  LV  0.553748  0.459611\n",
       "13  IE  1.040682  1.022583\n",
       "14  SE  0.943071  0.923042\n",
       "15  PL  0.776156  0.715291\n",
       "16  LT  0.761618  0.689241\n",
       "17  MT  1.006571  0.981737\n",
       "18  SI  0.797653  0.724220\n",
       "19  RO  0.364155  0.321712\n",
       "20  NO  0.986849  0.970864\n",
       "21  BG  0.306573  0.275721\n",
       "22  EE  0.732817  0.685788\n",
       "23  ES  0.997053  0.937481\n",
       "24  PT  1.039928  0.949431\n",
       "25  CZ  0.821092  0.781834\n",
       "26  CY  0.936745  0.909448"
      ]
     },
     "execution_count": 21,
     "metadata": {},
     "output_type": "execute_result"
    }
   ],
   "source": [
    "df2"
   ]
  },
  {
   "cell_type": "code",
   "execution_count": 22,
   "metadata": {},
   "outputs": [],
   "source": [
    "a_file = open(\"country_dict.pkl\", \"rb\")\n",
    "country = pickle.load(a_file)\n",
    "CountryName = []\n",
    "CountryCode=list(df2[\"key\"])\n",
    "for i in range(len(CountryCode)):\n",
    "    CountryName.append(country[CountryCode[i]])\n",
    "a_file.close()"
   ]
  },
  {
   "cell_type": "code",
   "execution_count": 23,
   "metadata": {},
   "outputs": [],
   "source": [
    "per1_=list(df2['per1'])\n",
    "per2_=list(df2['per2'])\n",
    "list3 =[(CountryName[i],round(per1_[i]*100,2)) for i in range(len(CountryName))]\n",
    "list4 =[(CountryName[i],round(per2_[i]*100,2)) for i in range(len(CountryName))]"
   ]
  },
  {
   "cell_type": "code",
   "execution_count": 24,
   "metadata": {},
   "outputs": [
    {
     "data": {
      "text/plain": [
       "'/home/osboxes/Desktop/Project/visualization/map3.html'"
      ]
     },
     "execution_count": 24,
     "metadata": {},
     "output_type": "execute_result"
    }
   ],
   "source": [
    "map_3 =Map(init_opts=opts.InitOpts(width =\"1000px\",height=\"460px\"))\n",
    "map_3.add(\"Percentage of one dose(60+ senior)\",list3,maptype=\"world\"\n",
    "         ,is_map_symbol_show=False)\n",
    "map_3.set_global_opts( \n",
    " visualmap_opts=opts.VisualMapOpts(min_=0,max_=100, is_piecewise=True,pieces=[\n",
    " {'min': 90,\"color\":\"green\"},\n",
    "     {'min': 80, \"max\": 89.99,\"color\":\"limegreen\"},\n",
    " {'min': 70, \"max\": 79.99,\"color\":\"yellow\"},\n",
    " {'min': 60, \"max\": 69.99,\"color\":\"orange\"},\n",
    " {'min': 50, \"max\": 59.99,\"color\":\"red\"},\n",
    " {'min': 0, \"max\": 49.99,\"color\":\"firebrick\"}]),\n",
    "    title_opts =opts.TitleOpts(\n",
    "    title='Percentage of senior people(60+) who have received one dose of COVID-19 vaccine in EU/EEA',\n",
    "    subtitle ='until week 41 2021',\n",
    "    title_textstyle_opts=opts.TextStyleOpts(font_size=12)),\n",
    " legend_opts=opts.LegendOpts(is_show=False), \n",
    " )\n",
    "map_3.set_series_opts(label_opts=opts.LabelOpts(is_show=False))\n",
    "map_3.render('map3.html')"
   ]
  },
  {
   "cell_type": "code",
   "execution_count": 25,
   "metadata": {},
   "outputs": [
    {
     "data": {
      "text/html": [
       "\n",
       "        <iframe\n",
       "            width=\"600\"\n",
       "            height=\"460\"\n",
       "            src=\"./map3.html\"\n",
       "            frameborder=\"0\"\n",
       "            allowfullscreen\n",
       "        ></iframe>\n",
       "        "
      ],
      "text/plain": [
       "<IPython.lib.display.IFrame at 0x7fcd6cefc210>"
      ]
     },
     "execution_count": 25,
     "metadata": {},
     "output_type": "execute_result"
    }
   ],
   "source": [
    "IFrame(src='./map3.html', width=600, height=460)"
   ]
  },
  {
   "cell_type": "code",
   "execution_count": 26,
   "metadata": {},
   "outputs": [
    {
     "data": {
      "text/plain": [
       "'/home/osboxes/Desktop/Project/visualization/map4.html'"
      ]
     },
     "execution_count": 26,
     "metadata": {},
     "output_type": "execute_result"
    }
   ],
   "source": [
    "map_4 =Map(init_opts=opts.InitOpts(width =\"1000px\",height=\"460px\"))\n",
    "map_4.add(\"Percentage of two doses(60+ senior)\",list4,maptype=\"world\"\n",
    "         ,is_map_symbol_show=False)\n",
    "map_4.set_global_opts( \n",
    " visualmap_opts=opts.VisualMapOpts(min_=0,max_=100, is_piecewise=True,pieces=[\n",
    " {'min': 90,\"color\":\"green\"},\n",
    "     {'min': 80, \"max\": 89.99,\"color\":\"limegreen\"},\n",
    " {'min': 70, \"max\": 79.99,\"color\":\"yellow\"},\n",
    " {'min': 60, \"max\": 69.99,\"color\":\"orange\"},\n",
    " {'min': 50, \"max\": 59.99,\"color\":\"red\"},\n",
    " {'min': 0, \"max\": 49.99,\"color\":\"firebrick\"}]),\n",
    "    title_opts =opts.TitleOpts(\n",
    "    title='Percentage of senior people(60+) who have received two doses of COVID-19 vaccine in EU/EEA',\n",
    "    subtitle ='until week 41 2021',\n",
    "    title_textstyle_opts=opts.TextStyleOpts(font_size=12)),\n",
    " legend_opts=opts.LegendOpts(is_show=False), \n",
    " )\n",
    "map_4.set_series_opts(label_opts=opts.LabelOpts(is_show=False))\n",
    "map_4.render('map4.html')"
   ]
  },
  {
   "cell_type": "code",
   "execution_count": 27,
   "metadata": {},
   "outputs": [
    {
     "data": {
      "text/html": [
       "\n",
       "        <iframe\n",
       "            width=\"600\"\n",
       "            height=\"460\"\n",
       "            src=\"./map4.html\"\n",
       "            frameborder=\"0\"\n",
       "            allowfullscreen\n",
       "        ></iframe>\n",
       "        "
      ],
      "text/plain": [
       "<IPython.lib.display.IFrame at 0x7fcd6c67fa90>"
      ]
     },
     "execution_count": 27,
     "metadata": {},
     "output_type": "execute_result"
    }
   ],
   "source": [
    "IFrame(src='./map4.html', width=600, height=460)"
   ]
  },
  {
   "cell_type": "markdown",
   "metadata": {},
   "source": [
    "## Reference\n",
    "\n",
    "[1] Pyecharts.org. 2021. pyecharts - A Python Echarts Plotting Library built with love.. [online] Available at: <https://pyecharts.org/#/> [Accessed 19 October 2021]."
   ]
  }
 ],
 "metadata": {
  "kernelspec": {
   "display_name": "Python 3 (ipykernel)",
   "language": "python",
   "name": "python3"
  },
  "language_info": {
   "codemirror_mode": {
    "name": "ipython",
    "version": 3
   },
   "file_extension": ".py",
   "mimetype": "text/x-python",
   "name": "python",
   "nbconvert_exporter": "python",
   "pygments_lexer": "ipython3",
   "version": "3.7.6"
  }
 },
 "nbformat": 4,
 "nbformat_minor": 4
}
