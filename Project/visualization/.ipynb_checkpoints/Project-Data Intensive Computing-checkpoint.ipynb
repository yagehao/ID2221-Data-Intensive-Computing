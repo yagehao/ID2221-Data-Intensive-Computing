{
 "cells": [
  {
   "cell_type": "markdown",
   "metadata": {},
   "source": [
    "# ID2221 Denta Intensive Computing Project"
   ]
  },
  {
   "cell_type": "markdown",
   "metadata": {},
   "source": [
    "## Initialization\n",
    "Run this part only once."
   ]
  },
  {
   "cell_type": "code",
   "execution_count": 1,
   "metadata": {},
   "outputs": [
    {
     "name": "stdout",
     "output_type": "stream",
     "text": [
      "Requirement already satisfied: pyecharts==1.7.1 in /home/osboxes/anaconda3/lib/python3.7/site-packages (1.7.1)\n",
      "Requirement already satisfied: jinja2 in /home/osboxes/anaconda3/lib/python3.7/site-packages (from pyecharts==1.7.1) (2.11.1)\n",
      "Requirement already satisfied: prettytable in /home/osboxes/anaconda3/lib/python3.7/site-packages (from pyecharts==1.7.1) (2.2.1)\n",
      "Requirement already satisfied: simplejson in /home/osboxes/anaconda3/lib/python3.7/site-packages (from pyecharts==1.7.1) (3.17.5)\n",
      "Requirement already satisfied: MarkupSafe>=0.23 in /home/osboxes/anaconda3/lib/python3.7/site-packages (from jinja2->pyecharts==1.7.1) (1.1.1)\n",
      "Requirement already satisfied: importlib-metadata; python_version < \"3.8\" in /home/osboxes/anaconda3/lib/python3.7/site-packages (from prettytable->pyecharts==1.7.1) (1.5.0)\n",
      "Requirement already satisfied: wcwidth in /home/osboxes/anaconda3/lib/python3.7/site-packages (from prettytable->pyecharts==1.7.1) (0.1.8)\n",
      "Requirement already satisfied: zipp>=0.5 in /home/osboxes/anaconda3/lib/python3.7/site-packages (from importlib-metadata; python_version < \"3.8\"->prettytable->pyecharts==1.7.1) (2.2.0)\n",
      "Note: you may need to restart the kernel to use updated packages.\n"
     ]
    }
   ],
   "source": [
    "pip install pyecharts==1.7.1"
   ]
  },
  {
   "cell_type": "code",
   "execution_count": 2,
   "metadata": {},
   "outputs": [
    {
     "name": "stdout",
     "output_type": "stream",
     "text": [
      "Requirement already satisfied: jupyter-echarts-pypkg in /home/osboxes/anaconda3/lib/python3.7/site-packages (0.1.5)\n",
      "Requirement already satisfied: lml>=0.0.2 in /home/osboxes/anaconda3/lib/python3.7/site-packages (from jupyter-echarts-pypkg) (0.1.0)\n",
      "Requirement already satisfied: pyecharts-jupyter-installer==0.0.3 in /home/osboxes/anaconda3/lib/python3.7/site-packages (from jupyter-echarts-pypkg) (0.0.3)\n",
      "Note: you may need to restart the kernel to use updated packages.\n"
     ]
    }
   ],
   "source": [
    "pip install jupyter-echarts-pypkg"
   ]
  },
  {
   "cell_type": "code",
   "execution_count": 3,
   "metadata": {},
   "outputs": [
    {
     "name": "stdout",
     "output_type": "stream",
     "text": [
      "Requirement already satisfied: echarts-countries-pypkg in /home/osboxes/anaconda3/lib/python3.7/site-packages (0.1.6)\n",
      "Requirement already satisfied: pyecharts-jupyter-installer==0.0.3 in /home/osboxes/anaconda3/lib/python3.7/site-packages (from echarts-countries-pypkg) (0.0.3)\n",
      "Requirement already satisfied: lml>=0.0.2 in /home/osboxes/anaconda3/lib/python3.7/site-packages (from echarts-countries-pypkg) (0.1.0)\n",
      "Note: you may need to restart the kernel to use updated packages.\n"
     ]
    }
   ],
   "source": [
    "pip install echarts-countries-pypkg"
   ]
  },
  {
   "cell_type": "code",
   "execution_count": 4,
   "metadata": {},
   "outputs": [
    {
     "name": "stdout",
     "output_type": "stream",
     "text": [
      "Requirement already satisfied: echarts in /home/osboxes/anaconda3/lib/python3.7/site-packages (0.0.0)\n",
      "Requirement already satisfied: peppercorn in /home/osboxes/anaconda3/lib/python3.7/site-packages (from echarts) (0.6)\n",
      "Note: you may need to restart the kernel to use updated packages.\n"
     ]
    }
   ],
   "source": [
    "pip install echarts"
   ]
  },
  {
   "cell_type": "code",
   "execution_count": 1,
   "metadata": {},
   "outputs": [],
   "source": [
    "import pyecharts\n",
    "from pyecharts.charts import Map,Geo\n",
    "from pyecharts import options as opts\n",
    "from pyecharts.globals import ThemeType"
   ]
  },
  {
   "cell_type": "code",
   "execution_count": 2,
   "metadata": {},
   "outputs": [],
   "source": [
    "import pandas as pd\n",
    "import os\n",
    "import json\n",
    "import re\n",
    "import pickle"
   ]
  },
  {
   "cell_type": "code",
   "execution_count": 3,
   "metadata": {},
   "outputs": [],
   "source": [
    "def read_files(path):\n",
    "    data=[]\n",
    "    files=os.listdir(path)\n",
    "    for file in files:    \n",
    "        filepath=path+'/'+file\n",
    "        if  os.path.isfile(filepath):\n",
    "            \n",
    "            # omit hidden files begin with '.'\n",
    "            if file[0] == '.':\n",
    "                pass\n",
    "            else:\n",
    "                print(file)  \n",
    "                filepath=path+'/'+file\n",
    "\n",
    "                with open(filepath, 'r') as handle:\n",
    "                    text_data = handle.read()\n",
    "                    text_data = '[' + re.sub(r'\\}\\s\\{', '},{', text_data) + ']'\n",
    "                    json_data = json.loads(text_data)\n",
    "                    data.append(json_data)\n",
    "    return data"
   ]
  },
  {
   "cell_type": "code",
   "execution_count": 4,
   "metadata": {},
   "outputs": [
    {
     "data": {
      "text/plain": [
       "'/home/osboxes/Desktop/Project/visualization'"
      ]
     },
     "execution_count": 4,
     "metadata": {},
     "output_type": "execute_result"
    }
   ],
   "source": [
    "os.getcwd()"
   ]
  },
  {
   "cell_type": "markdown",
   "metadata": {},
   "source": [
    "## Task1: Vaccination status by country"
   ]
  },
  {
   "cell_type": "code",
   "execution_count": 5,
   "metadata": {},
   "outputs": [],
   "source": [
    "os.chdir('../task1')"
   ]
  },
  {
   "cell_type": "code",
   "execution_count": 6,
   "metadata": {},
   "outputs": [
    {
     "data": {
      "text/plain": [
       "'/home/osboxes/Desktop/Project/task1'"
      ]
     },
     "execution_count": 6,
     "metadata": {},
     "output_type": "execute_result"
    }
   ],
   "source": [
    "os.getcwd()"
   ]
  },
  {
   "cell_type": "code",
   "execution_count": 7,
   "metadata": {
    "collapsed": true
   },
   "outputs": [
    {
     "name": "stdout",
     "output_type": "stream",
     "text": [
      "part-00173-36c1a939-3943-4f92-813a-3219f9bac1c0-c000.json\n",
      "part-00167-c017fda7-dd87-48bc-87df-475e81565fe7-c000.json\n",
      "part-00127-2e8eafaa-9e13-4ccd-901f-5d47709b6094-c000.json\n",
      "part-00078-4b8794a6-21ab-4d13-84b1-5c1137c5715e-c000.json\n",
      "part-00155-510d5a92-5620-45da-87e6-4c75e3de929e-c000.json\n",
      "part-00000-04653cd0-8160-4d23-969d-0911dd869101-c000.json\n",
      "part-00132-a04ca35d-fb2a-4cc8-9543-c8b07edee8f4-c000.json\n",
      "part-00157-3cc1f1fc-baee-40ce-a5a1-2191021959c4-c000.json\n",
      "part-00000-4526f7a1-5d60-48bb-a57f-748f8a2c2c37-c000.json\n",
      "part-00009-843c6893-bac5-405c-9888-4df20faa46b9-c000.json\n",
      "part-00000-e4b808d0-ce39-43e7-a031-7b44bfdce464-c000.json\n",
      "part-00024-3d2d3f4b-2120-47ac-bde5-694a6930be47-c000.json\n",
      "part-00125-08951af1-2b20-44b2-9f16-927131950963-c000.json\n",
      "part-00157-80e247e8-0413-452c-968d-8dd4dec0c5c6-c000.json\n",
      "part-00197-2d6204cc-43c4-49cf-9df8-1c769f4fcaf1-c000.json\n",
      "part-00165-0eeba464-9459-4e4a-a810-6840caf553f4-c000.json\n",
      "part-00163-608e631d-dec3-42c0-acc7-b8daa4075289-c000.json\n",
      "part-00007-4a750a8a-d385-4bcc-b10d-b73e61b18449-c000.json\n",
      "part-00067-3391cb47-8a59-441d-98cf-cf322850b03f-c000.json\n",
      "part-00000-668aa029-092d-4ebe-91e2-ce5c36457807-c000.json\n",
      "part-00045-b1ecee44-e6d5-4d5c-b6ca-36076147cffd-c000.json\n",
      "part-00004-29ea9bcf-5d61-4022-93d7-c79566f4718c-c000.json\n",
      "part-00032-ea9575ce-7511-4783-b026-61ec750d05de-c000.json\n",
      "part-00014-22e6c796-44b0-4428-a232-83269fc3c526-c000.json\n",
      "part-00129-ece51123-5f11-4ed0-aae9-d57ec9293ca9-c000.json\n",
      "part-00075-58e4c3bc-7c4a-4e7f-a743-aa08c85d39e7-c000.json\n",
      "part-00135-ae48bc60-2b7c-4f63-9693-b8d070628137-c000.json\n",
      "part-00042-0afb82cf-825f-4fa3-baaf-209316345b4d-c000.json\n",
      "part-00000-afd42542-5a3b-4081-a884-1778df9bcc8e-c000.json\n",
      "part-00041-c5133a16-bff1-465d-8ae6-287453b84856-c000.json\n",
      "part-00104-552236e8-49f6-46a8-bcd5-2576093e622b-c000.json\n",
      "part-00024-b9fe96e5-8d54-4cb4-8885-8f559d3d267a-c000.json\n"
     ]
    }
   ],
   "source": [
    "data1=read_files(\"result1\")"
   ]
  },
  {
   "cell_type": "code",
   "execution_count": 12,
   "metadata": {},
   "outputs": [],
   "source": [
    "os.chdir('../visualization')"
   ]
  },
  {
   "cell_type": "code",
   "execution_count": 13,
   "metadata": {},
   "outputs": [
    {
     "data": {
      "text/plain": [
       "'/home/osboxes/Desktop/Project/visualization'"
      ]
     },
     "execution_count": 13,
     "metadata": {},
     "output_type": "execute_result"
    }
   ],
   "source": [
    "os.getcwd()"
   ]
  },
  {
   "cell_type": "code",
   "execution_count": 14,
   "metadata": {},
   "outputs": [],
   "source": [
    "data_new1=[]\n",
    "for i in range(len(data1)):\n",
    "    for j in range(len(data1[i])):\n",
    "        data_new1.append(data1[i][j])"
   ]
  },
  {
   "cell_type": "code",
   "execution_count": 15,
   "metadata": {},
   "outputs": [],
   "source": [
    "#Get the latest data\n",
    "df1=pd.DataFrame(data_new1)\n",
    "df1=df1.groupby('key',as_index=False).agg('max')"
   ]
  },
  {
   "cell_type": "code",
   "execution_count": 16,
   "metadata": {},
   "outputs": [
    {
     "data": {
      "text/html": [
       "<div>\n",
       "<style scoped>\n",
       "    .dataframe tbody tr th:only-of-type {\n",
       "        vertical-align: middle;\n",
       "    }\n",
       "\n",
       "    .dataframe tbody tr th {\n",
       "        vertical-align: top;\n",
       "    }\n",
       "\n",
       "    .dataframe thead th {\n",
       "        text-align: right;\n",
       "    }\n",
       "</style>\n",
       "<table border=\"1\" class=\"dataframe\">\n",
       "  <thead>\n",
       "    <tr style=\"text-align: right;\">\n",
       "      <th></th>\n",
       "      <th>key</th>\n",
       "      <th>per1</th>\n",
       "      <th>per2</th>\n",
       "    </tr>\n",
       "  </thead>\n",
       "  <tbody>\n",
       "    <tr>\n",
       "      <th>0</th>\n",
       "      <td>AT</td>\n",
       "      <td>0.626111</td>\n",
       "      <td>0.560687</td>\n",
       "    </tr>\n",
       "    <tr>\n",
       "      <th>1</th>\n",
       "      <td>BE</td>\n",
       "      <td>0.694061</td>\n",
       "      <td>0.650148</td>\n",
       "    </tr>\n",
       "    <tr>\n",
       "      <th>2</th>\n",
       "      <td>BG</td>\n",
       "      <td>0.205935</td>\n",
       "      <td>0.166605</td>\n",
       "    </tr>\n",
       "    <tr>\n",
       "      <th>3</th>\n",
       "      <td>CY</td>\n",
       "      <td>0.654072</td>\n",
       "      <td>0.612343</td>\n",
       "    </tr>\n",
       "    <tr>\n",
       "      <th>4</th>\n",
       "      <td>CZ</td>\n",
       "      <td>0.548217</td>\n",
       "      <td>0.516926</td>\n",
       "    </tr>\n",
       "    <tr>\n",
       "      <th>5</th>\n",
       "      <td>DE</td>\n",
       "      <td>0.685317</td>\n",
       "      <td>0.613656</td>\n",
       "    </tr>\n",
       "    <tr>\n",
       "      <th>6</th>\n",
       "      <td>DK</td>\n",
       "      <td>0.713928</td>\n",
       "      <td>0.697330</td>\n",
       "    </tr>\n",
       "    <tr>\n",
       "      <th>7</th>\n",
       "      <td>EE</td>\n",
       "      <td>0.545001</td>\n",
       "      <td>0.476311</td>\n",
       "    </tr>\n",
       "    <tr>\n",
       "      <th>8</th>\n",
       "      <td>EL</td>\n",
       "      <td>0.587633</td>\n",
       "      <td>0.528289</td>\n",
       "    </tr>\n",
       "    <tr>\n",
       "      <th>9</th>\n",
       "      <td>ES</td>\n",
       "      <td>0.747226</td>\n",
       "      <td>0.642731</td>\n",
       "    </tr>\n",
       "    <tr>\n",
       "      <th>10</th>\n",
       "      <td>FI</td>\n",
       "      <td>0.703985</td>\n",
       "      <td>0.637874</td>\n",
       "    </tr>\n",
       "    <tr>\n",
       "      <th>11</th>\n",
       "      <td>FR</td>\n",
       "      <td>0.697618</td>\n",
       "      <td>0.609797</td>\n",
       "    </tr>\n",
       "    <tr>\n",
       "      <th>12</th>\n",
       "      <td>HR</td>\n",
       "      <td>0.452801</td>\n",
       "      <td>0.400827</td>\n",
       "    </tr>\n",
       "    <tr>\n",
       "      <th>13</th>\n",
       "      <td>HU</td>\n",
       "      <td>0.569978</td>\n",
       "      <td>0.534157</td>\n",
       "    </tr>\n",
       "    <tr>\n",
       "      <th>14</th>\n",
       "      <td>IE</td>\n",
       "      <td>0.705176</td>\n",
       "      <td>0.648196</td>\n",
       "    </tr>\n",
       "    <tr>\n",
       "      <th>15</th>\n",
       "      <td>IT</td>\n",
       "      <td>0.729086</td>\n",
       "      <td>0.638284</td>\n",
       "    </tr>\n",
       "    <tr>\n",
       "      <th>16</th>\n",
       "      <td>LI</td>\n",
       "      <td>0.613518</td>\n",
       "      <td>0.542648</td>\n",
       "    </tr>\n",
       "    <tr>\n",
       "      <th>17</th>\n",
       "      <td>LT</td>\n",
       "      <td>0.612114</td>\n",
       "      <td>0.505689</td>\n",
       "    </tr>\n",
       "    <tr>\n",
       "      <th>18</th>\n",
       "      <td>LV</td>\n",
       "      <td>0.452122</td>\n",
       "      <td>0.353181</td>\n",
       "    </tr>\n",
       "    <tr>\n",
       "      <th>19</th>\n",
       "      <td>MT</td>\n",
       "      <td>0.771171</td>\n",
       "      <td>0.705982</td>\n",
       "    </tr>\n",
       "    <tr>\n",
       "      <th>20</th>\n",
       "      <td>NL</td>\n",
       "      <td>0.702985</td>\n",
       "      <td>0.590952</td>\n",
       "    </tr>\n",
       "    <tr>\n",
       "      <th>21</th>\n",
       "      <td>NO</td>\n",
       "      <td>0.725345</td>\n",
       "      <td>0.683525</td>\n",
       "    </tr>\n",
       "    <tr>\n",
       "      <th>22</th>\n",
       "      <td>PL</td>\n",
       "      <td>0.514050</td>\n",
       "      <td>0.442508</td>\n",
       "    </tr>\n",
       "    <tr>\n",
       "      <th>23</th>\n",
       "      <td>PT</td>\n",
       "      <td>0.818260</td>\n",
       "      <td>0.645666</td>\n",
       "    </tr>\n",
       "    <tr>\n",
       "      <th>24</th>\n",
       "      <td>RO</td>\n",
       "      <td>0.294661</td>\n",
       "      <td>0.235566</td>\n",
       "    </tr>\n",
       "    <tr>\n",
       "      <th>25</th>\n",
       "      <td>SE</td>\n",
       "      <td>0.672402</td>\n",
       "      <td>0.637510</td>\n",
       "    </tr>\n",
       "    <tr>\n",
       "      <th>26</th>\n",
       "      <td>SI</td>\n",
       "      <td>0.525824</td>\n",
       "      <td>0.423524</td>\n",
       "    </tr>\n",
       "    <tr>\n",
       "      <th>27</th>\n",
       "      <td>SK</td>\n",
       "      <td>0.436379</td>\n",
       "      <td>0.408683</td>\n",
       "    </tr>\n",
       "  </tbody>\n",
       "</table>\n",
       "</div>"
      ],
      "text/plain": [
       "   key      per1      per2\n",
       "0   AT  0.626111  0.560687\n",
       "1   BE  0.694061  0.650148\n",
       "2   BG  0.205935  0.166605\n",
       "3   CY  0.654072  0.612343\n",
       "4   CZ  0.548217  0.516926\n",
       "5   DE  0.685317  0.613656\n",
       "6   DK  0.713928  0.697330\n",
       "7   EE  0.545001  0.476311\n",
       "8   EL  0.587633  0.528289\n",
       "9   ES  0.747226  0.642731\n",
       "10  FI  0.703985  0.637874\n",
       "11  FR  0.697618  0.609797\n",
       "12  HR  0.452801  0.400827\n",
       "13  HU  0.569978  0.534157\n",
       "14  IE  0.705176  0.648196\n",
       "15  IT  0.729086  0.638284\n",
       "16  LI  0.613518  0.542648\n",
       "17  LT  0.612114  0.505689\n",
       "18  LV  0.452122  0.353181\n",
       "19  MT  0.771171  0.705982\n",
       "20  NL  0.702985  0.590952\n",
       "21  NO  0.725345  0.683525\n",
       "22  PL  0.514050  0.442508\n",
       "23  PT  0.818260  0.645666\n",
       "24  RO  0.294661  0.235566\n",
       "25  SE  0.672402  0.637510\n",
       "26  SI  0.525824  0.423524\n",
       "27  SK  0.436379  0.408683"
      ]
     },
     "execution_count": 16,
     "metadata": {},
     "output_type": "execute_result"
    }
   ],
   "source": [
    "df1"
   ]
  },
  {
   "cell_type": "code",
   "execution_count": 17,
   "metadata": {},
   "outputs": [],
   "source": [
    "a_file = open(\"country_dict.pkl\", \"rb\")\n",
    "country = pickle.load(a_file)\n",
    "CountryName = []\n",
    "CountryCode=list(df1[\"key\"])\n",
    "for i in range(len(CountryCode)):\n",
    "    CountryName.append(country[CountryCode[i]])\n",
    "a_file.close()"
   ]
  },
  {
   "cell_type": "code",
   "execution_count": 18,
   "metadata": {},
   "outputs": [],
   "source": [
    "per1=list(df1['per1'])\n",
    "per2=list(df1['per2'])"
   ]
  },
  {
   "cell_type": "code",
   "execution_count": 19,
   "metadata": {},
   "outputs": [],
   "source": [
    "list1 =[(CountryName[i],round(per1[i]*100,2)) for i in range(len(CountryName))]\n",
    "list2 =[(CountryName[i],round(per2[i]*100,2)) for i in range(len(CountryName))]"
   ]
  },
  {
   "cell_type": "code",
   "execution_count": 20,
   "metadata": {},
   "outputs": [
    {
     "data": {
      "text/plain": [
       "'/home/osboxes/Desktop/Project/visualization/map1.html'"
      ]
     },
     "execution_count": 20,
     "metadata": {},
     "output_type": "execute_result"
    }
   ],
   "source": [
    "map_1 =Map(init_opts=opts.InitOpts(width =\"1000px\",height=\"460px\"))\n",
    "map_1.add(\"Percentage of one dose\",list1,maptype=\"world\"\n",
    "         ,is_map_symbol_show=False)\n",
    "map_1.set_global_opts( \n",
    " visualmap_opts=opts.VisualMapOpts(min_=0,max_=100, is_piecewise=True,pieces=[\n",
    "     {'min': 80,\"color\":\"green\"},\n",
    " {'min': 70, \"max\": 79.99,\"color\":\"limegreen\"},\n",
    " {'min': 60, \"max\": 69.99,\"color\":\"lime\"},\n",
    " {'min': 50, \"max\": 59.99,\"color\":\"yellow\"},\n",
    " {'min': 40, \"max\": 49.99,\"color\":\"orange\"},\n",
    "    {'min': 0, \"max\": 39.99,\"color\":\"red\"}]),\n",
    "    title_opts =opts.TitleOpts(\n",
    "    title='Percentage of people who have received one dose of COVID-19 vaccine in EU/EEA',\n",
    "    subtitle ='until week 41 2021',\n",
    "    title_textstyle_opts=opts.TextStyleOpts(font_size=14)),\n",
    " legend_opts=opts.LegendOpts(is_show=False), \n",
    " )\n",
    "map_1.set_series_opts(label_opts=opts.LabelOpts(is_show=False))\n",
    "map_1.render('map1.html')"
   ]
  },
  {
   "cell_type": "code",
   "execution_count": 21,
   "metadata": {},
   "outputs": [
    {
     "data": {
      "text/html": [
       "\n",
       "        <iframe\n",
       "            width=\"600\"\n",
       "            height=\"460\"\n",
       "            src=\"./map1.html\"\n",
       "            frameborder=\"0\"\n",
       "            allowfullscreen\n",
       "        ></iframe>\n",
       "        "
      ],
      "text/plain": [
       "<IPython.lib.display.IFrame at 0x7fb6fc2f7290>"
      ]
     },
     "execution_count": 21,
     "metadata": {},
     "output_type": "execute_result"
    }
   ],
   "source": [
    "from IPython.display import IFrame\n",
    "IFrame(src='./map1.html', width=600, height=460)"
   ]
  },
  {
   "cell_type": "code",
   "execution_count": 22,
   "metadata": {},
   "outputs": [
    {
     "data": {
      "text/plain": [
       "'/home/osboxes/Desktop/Project/visualization/map2.html'"
      ]
     },
     "execution_count": 22,
     "metadata": {},
     "output_type": "execute_result"
    }
   ],
   "source": [
    "map_2 =Map(init_opts=opts.InitOpts(width =\"1000px\",height=\"460px\"))\n",
    "map_2.add(\"Percentage of two doses\",list2,maptype=\"world\"\n",
    "         ,is_map_symbol_show=False)\n",
    "map_2.set_global_opts( \n",
    " visualmap_opts=opts.VisualMapOpts(min_=0,max_=100, is_piecewise=True,pieces=[\n",
    "  {'min': 80,\"color\":\"green\"},\n",
    " {'min': 70, \"max\": 79.99,\"color\":\"limegreen\"},\n",
    " {'min': 60, \"max\": 69.99,\"color\":\"lime\"},\n",
    " {'min': 50, \"max\": 59.99,\"color\":\"yellow\"},\n",
    " {'min': 40, \"max\": 49.99,\"color\":\"orange\"},\n",
    "    {'min': 0, \"max\": 39.99,\"color\":\"red\"}]),\n",
    "    title_opts =opts.TitleOpts(\n",
    "    title='Percentage of people who have received two doses of COVID-19 vaccine in EU/EEA',\n",
    "    subtitle ='until week 41 2021',\n",
    "    title_textstyle_opts=opts.TextStyleOpts(font_size=14)),\n",
    " legend_opts=opts.LegendOpts(is_show=False), \n",
    " )\n",
    "map_2.set_series_opts(label_opts=opts.LabelOpts(is_show=False))\n",
    "map_2.render('map2.html')"
   ]
  },
  {
   "cell_type": "code",
   "execution_count": 23,
   "metadata": {},
   "outputs": [
    {
     "data": {
      "text/html": [
       "\n",
       "        <iframe\n",
       "            width=\"600\"\n",
       "            height=\"460\"\n",
       "            src=\"./map2.html\"\n",
       "            frameborder=\"0\"\n",
       "            allowfullscreen\n",
       "        ></iframe>\n",
       "        "
      ],
      "text/plain": [
       "<IPython.lib.display.IFrame at 0x7fb6d285b910>"
      ]
     },
     "execution_count": 23,
     "metadata": {},
     "output_type": "execute_result"
    }
   ],
   "source": [
    "IFrame(src='./map2.html', width=600, height=460)"
   ]
  },
  {
   "cell_type": "markdown",
   "metadata": {},
   "source": [
    "## Task 2: Vaccination status of the elderly by country"
   ]
  },
  {
   "cell_type": "code",
   "execution_count": 25,
   "metadata": {},
   "outputs": [],
   "source": [
    "os.chdir('../task2')"
   ]
  },
  {
   "cell_type": "code",
   "execution_count": 26,
   "metadata": {},
   "outputs": [
    {
     "data": {
      "text/plain": [
       "'/home/osboxes/Desktop/Project/task2'"
      ]
     },
     "execution_count": 26,
     "metadata": {},
     "output_type": "execute_result"
    }
   ],
   "source": [
    "os.getcwd()"
   ]
  },
  {
   "cell_type": "code",
   "execution_count": 28,
   "metadata": {},
   "outputs": [
    {
     "name": "stdout",
     "output_type": "stream",
     "text": [
      "part-00167-29522f6b-8d6a-4635-9c91-ee2f647bc3eb-c000.json\n",
      "part-00129-21d30118-7630-4e46-b0f8-e7c9c2c7bed2-c000.json\n",
      "part-00125-14156bdb-08f3-43c6-8213-64663f37ac7b-c000.json\n",
      "part-00189-d94418cc-b0bb-435c-9315-f4d7ef48fc9d-c000.json\n",
      "part-00135-a308414c-61dc-4719-9fb9-4df5273b7b5b-c000.json\n",
      "part-00000-228a693a-e85e-442c-b512-47c5380ce9e9-c000.json\n",
      "part-00000-b9d3186a-62e1-4b73-b50b-9afd6bb7d871-c000.json\n",
      "part-00197-2448389c-6cde-4b8e-80c1-0fbdcaf2d561-c000.json\n",
      "part-00024-e4dd37fa-aae1-4d3d-8fca-3d01b14e32e2-c000.json\n",
      "part-00104-dee2abb3-e5c7-42d1-8be9-f9fad977b22c-c000.json\n",
      "part-00165-98fc67e0-03e9-4414-925f-4eba0f1c1130-c000.json\n",
      "part-00007-bb2cc087-7bf5-4113-b503-a9a343daece1-c000.json\n",
      "part-00187-d4a79558-5686-47f3-8d6e-7dd8adcd54f0-c000.json\n",
      "part-00155-5169662c-32cf-4f59-b4b5-5fb0644d90e0-c000.json\n",
      "part-00004-c13d8665-e37d-4861-bc0c-00eef7737c12-c000.json\n",
      "part-00067-705b12e9-5115-4075-87b8-fcb21d27106c-c000.json\n",
      "part-00127-496a5bda-5862-46e7-aef0-1461ab143cc2-c000.json\n",
      "part-00000-c525a165-780f-4837-9f9c-8e90952d037b-c000.json\n",
      "part-00078-1fbfb50d-a4e6-4bd6-8912-33a51d27a784-c000.json\n",
      "part-00014-b1139cec-5457-48d5-85c8-ba0477c6761f-c000.json\n",
      "part-00024-b00bd6a4-3673-4555-8607-4bcdcea0d143-c000.json\n",
      "part-00163-3e95bdde-33c2-49e6-8c70-1a2b6128b1aa-c000.json\n",
      "part-00157-dc8b35e6-bf94-42ae-bf09-a1f7132f14ee-c000.json\n",
      "part-00132-57a9c7c3-f5bc-4a37-9c55-954b2ddd569a-c000.json\n",
      "part-00032-8ef01e42-33ba-4783-a722-385d24798c05-c000.json\n",
      "part-00042-d48944d9-6879-41cd-b90d-6d4e7ce061d0-c000.json\n",
      "part-00157-f6114640-31d1-4a3d-8140-1d16f1c5b36a-c000.json\n",
      "part-00000-145f43a4-9d95-463b-88ee-e1fbc5512629-c000.json\n",
      "part-00173-14cb824b-6849-4af4-98e9-fe4723105dee-c000.json\n",
      "part-00041-3f5b59fd-46d6-4589-be6a-2162a10a494b-c000.json\n",
      "part-00000-eb80468a-2a57-4984-a45d-bd6eeb27813e-c000.json\n",
      "part-00045-ea9528d0-0305-4b93-a5e4-596d9d450009-c000.json\n"
     ]
    }
   ],
   "source": [
    "data2=read_files(\"result2\")"
   ]
  },
  {
   "cell_type": "code",
   "execution_count": 29,
   "metadata": {},
   "outputs": [],
   "source": [
    "os.chdir('../visualization')"
   ]
  },
  {
   "cell_type": "code",
   "execution_count": 30,
   "metadata": {},
   "outputs": [
    {
     "data": {
      "text/plain": [
       "'/home/osboxes/Desktop/Project/visualization'"
      ]
     },
     "execution_count": 30,
     "metadata": {},
     "output_type": "execute_result"
    }
   ],
   "source": [
    "os.getcwd()"
   ]
  },
  {
   "cell_type": "code",
   "execution_count": 31,
   "metadata": {},
   "outputs": [],
   "source": [
    "data_new2=[]\n",
    "for i in range(len(data2)):\n",
    "    for j in range(len(data2[i])):\n",
    "        data_new2.append(data2[i][j])"
   ]
  },
  {
   "cell_type": "code",
   "execution_count": 32,
   "metadata": {},
   "outputs": [],
   "source": [
    "#Get the latest data\n",
    "df2=pd.DataFrame(data_new2)\n",
    "df2=df2.groupby('key',as_index=False).agg('max')"
   ]
  },
  {
   "cell_type": "code",
   "execution_count": 33,
   "metadata": {},
   "outputs": [
    {
     "data": {
      "text/html": [
       "<div>\n",
       "<style scoped>\n",
       "    .dataframe tbody tr th:only-of-type {\n",
       "        vertical-align: middle;\n",
       "    }\n",
       "\n",
       "    .dataframe tbody tr th {\n",
       "        vertical-align: top;\n",
       "    }\n",
       "\n",
       "    .dataframe thead th {\n",
       "        text-align: right;\n",
       "    }\n",
       "</style>\n",
       "<table border=\"1\" class=\"dataframe\">\n",
       "  <thead>\n",
       "    <tr style=\"text-align: right;\">\n",
       "      <th></th>\n",
       "      <th>key</th>\n",
       "      <th>per1</th>\n",
       "      <th>per2</th>\n",
       "    </tr>\n",
       "  </thead>\n",
       "  <tbody>\n",
       "    <tr>\n",
       "      <th>0</th>\n",
       "      <td>AT</td>\n",
       "      <td>0.892389</td>\n",
       "      <td>0.844610</td>\n",
       "    </tr>\n",
       "    <tr>\n",
       "      <th>1</th>\n",
       "      <td>BE</td>\n",
       "      <td>0.938750</td>\n",
       "      <td>0.908917</td>\n",
       "    </tr>\n",
       "    <tr>\n",
       "      <th>2</th>\n",
       "      <td>BG</td>\n",
       "      <td>0.306573</td>\n",
       "      <td>0.275721</td>\n",
       "    </tr>\n",
       "    <tr>\n",
       "      <th>3</th>\n",
       "      <td>CY</td>\n",
       "      <td>0.936745</td>\n",
       "      <td>0.909448</td>\n",
       "    </tr>\n",
       "    <tr>\n",
       "      <th>4</th>\n",
       "      <td>CZ</td>\n",
       "      <td>0.821092</td>\n",
       "      <td>0.781834</td>\n",
       "    </tr>\n",
       "    <tr>\n",
       "      <th>5</th>\n",
       "      <td>DK</td>\n",
       "      <td>0.991448</td>\n",
       "      <td>0.992736</td>\n",
       "    </tr>\n",
       "    <tr>\n",
       "      <th>6</th>\n",
       "      <td>EE</td>\n",
       "      <td>0.732817</td>\n",
       "      <td>0.685788</td>\n",
       "    </tr>\n",
       "    <tr>\n",
       "      <th>7</th>\n",
       "      <td>EL</td>\n",
       "      <td>0.796569</td>\n",
       "      <td>0.766452</td>\n",
       "    </tr>\n",
       "    <tr>\n",
       "      <th>8</th>\n",
       "      <td>ES</td>\n",
       "      <td>0.997053</td>\n",
       "      <td>0.937481</td>\n",
       "    </tr>\n",
       "    <tr>\n",
       "      <th>9</th>\n",
       "      <td>FI</td>\n",
       "      <td>0.953876</td>\n",
       "      <td>0.917201</td>\n",
       "    </tr>\n",
       "    <tr>\n",
       "      <th>10</th>\n",
       "      <td>FR</td>\n",
       "      <td>0.917661</td>\n",
       "      <td>0.835064</td>\n",
       "    </tr>\n",
       "    <tr>\n",
       "      <th>11</th>\n",
       "      <td>HR</td>\n",
       "      <td>0.703286</td>\n",
       "      <td>0.661299</td>\n",
       "    </tr>\n",
       "    <tr>\n",
       "      <th>12</th>\n",
       "      <td>HU</td>\n",
       "      <td>0.811822</td>\n",
       "      <td>0.783969</td>\n",
       "    </tr>\n",
       "    <tr>\n",
       "      <th>13</th>\n",
       "      <td>IE</td>\n",
       "      <td>1.040682</td>\n",
       "      <td>1.022583</td>\n",
       "    </tr>\n",
       "    <tr>\n",
       "      <th>14</th>\n",
       "      <td>IS</td>\n",
       "      <td>1.039256</td>\n",
       "      <td>1.017118</td>\n",
       "    </tr>\n",
       "    <tr>\n",
       "      <th>15</th>\n",
       "      <td>IT</td>\n",
       "      <td>0.933140</td>\n",
       "      <td>0.848929</td>\n",
       "    </tr>\n",
       "    <tr>\n",
       "      <th>16</th>\n",
       "      <td>LT</td>\n",
       "      <td>0.761618</td>\n",
       "      <td>0.689241</td>\n",
       "    </tr>\n",
       "    <tr>\n",
       "      <th>17</th>\n",
       "      <td>LU</td>\n",
       "      <td>0.867765</td>\n",
       "      <td>0.827194</td>\n",
       "    </tr>\n",
       "    <tr>\n",
       "      <th>18</th>\n",
       "      <td>LV</td>\n",
       "      <td>0.553748</td>\n",
       "      <td>0.459611</td>\n",
       "    </tr>\n",
       "    <tr>\n",
       "      <th>19</th>\n",
       "      <td>MT</td>\n",
       "      <td>1.006571</td>\n",
       "      <td>0.981737</td>\n",
       "    </tr>\n",
       "    <tr>\n",
       "      <th>20</th>\n",
       "      <td>NO</td>\n",
       "      <td>0.986849</td>\n",
       "      <td>0.970864</td>\n",
       "    </tr>\n",
       "    <tr>\n",
       "      <th>21</th>\n",
       "      <td>PL</td>\n",
       "      <td>0.776156</td>\n",
       "      <td>0.715291</td>\n",
       "    </tr>\n",
       "    <tr>\n",
       "      <th>22</th>\n",
       "      <td>PT</td>\n",
       "      <td>1.039928</td>\n",
       "      <td>0.949431</td>\n",
       "    </tr>\n",
       "    <tr>\n",
       "      <th>23</th>\n",
       "      <td>RO</td>\n",
       "      <td>0.364155</td>\n",
       "      <td>0.321712</td>\n",
       "    </tr>\n",
       "    <tr>\n",
       "      <th>24</th>\n",
       "      <td>SE</td>\n",
       "      <td>0.943071</td>\n",
       "      <td>0.923041</td>\n",
       "    </tr>\n",
       "    <tr>\n",
       "      <th>25</th>\n",
       "      <td>SI</td>\n",
       "      <td>0.797653</td>\n",
       "      <td>0.724220</td>\n",
       "    </tr>\n",
       "    <tr>\n",
       "      <th>26</th>\n",
       "      <td>SK</td>\n",
       "      <td>0.670328</td>\n",
       "      <td>0.650265</td>\n",
       "    </tr>\n",
       "  </tbody>\n",
       "</table>\n",
       "</div>"
      ],
      "text/plain": [
       "   key      per1      per2\n",
       "0   AT  0.892389  0.844610\n",
       "1   BE  0.938750  0.908917\n",
       "2   BG  0.306573  0.275721\n",
       "3   CY  0.936745  0.909448\n",
       "4   CZ  0.821092  0.781834\n",
       "5   DK  0.991448  0.992736\n",
       "6   EE  0.732817  0.685788\n",
       "7   EL  0.796569  0.766452\n",
       "8   ES  0.997053  0.937481\n",
       "9   FI  0.953876  0.917201\n",
       "10  FR  0.917661  0.835064\n",
       "11  HR  0.703286  0.661299\n",
       "12  HU  0.811822  0.783969\n",
       "13  IE  1.040682  1.022583\n",
       "14  IS  1.039256  1.017118\n",
       "15  IT  0.933140  0.848929\n",
       "16  LT  0.761618  0.689241\n",
       "17  LU  0.867765  0.827194\n",
       "18  LV  0.553748  0.459611\n",
       "19  MT  1.006571  0.981737\n",
       "20  NO  0.986849  0.970864\n",
       "21  PL  0.776156  0.715291\n",
       "22  PT  1.039928  0.949431\n",
       "23  RO  0.364155  0.321712\n",
       "24  SE  0.943071  0.923041\n",
       "25  SI  0.797653  0.724220\n",
       "26  SK  0.670328  0.650265"
      ]
     },
     "execution_count": 33,
     "metadata": {},
     "output_type": "execute_result"
    }
   ],
   "source": [
    "df2"
   ]
  },
  {
   "cell_type": "code",
   "execution_count": 34,
   "metadata": {},
   "outputs": [],
   "source": [
    "a_file = open(\"country_dict.pkl\", \"rb\")\n",
    "country = pickle.load(a_file)\n",
    "CountryName = []\n",
    "CountryCode=list(df2[\"key\"])\n",
    "for i in range(len(CountryCode)):\n",
    "    CountryName.append(country[CountryCode[i]])\n",
    "a_file.close()"
   ]
  },
  {
   "cell_type": "code",
   "execution_count": 35,
   "metadata": {},
   "outputs": [],
   "source": [
    "per1_=list(df2['per1'])\n",
    "per2_=list(df2['per2'])\n",
    "list3 =[(CountryName[i],round(per1_[i]*100,2)) for i in range(len(CountryName))]\n",
    "list4 =[(CountryName[i],round(per2_[i]*100,2)) for i in range(len(CountryName))]"
   ]
  },
  {
   "cell_type": "code",
   "execution_count": 36,
   "metadata": {},
   "outputs": [
    {
     "data": {
      "text/plain": [
       "'/home/osboxes/Desktop/Project/visualization/map3.html'"
      ]
     },
     "execution_count": 36,
     "metadata": {},
     "output_type": "execute_result"
    }
   ],
   "source": [
    "map_3 =Map(init_opts=opts.InitOpts(width =\"1000px\",height=\"460px\"))\n",
    "map_3.add(\"Percentage of one dose(60+ senior)\",list3,maptype=\"world\"\n",
    "         ,is_map_symbol_show=False)\n",
    "map_3.set_global_opts( \n",
    " visualmap_opts=opts.VisualMapOpts(min_=0,max_=100, is_piecewise=True,pieces=[\n",
    " {'min': 90,\"color\":\"green\"},\n",
    "     {'min': 80, \"max\": 89.99,\"color\":\"limegreen\"},\n",
    " {'min': 70, \"max\": 79.99,\"color\":\"yellow\"},\n",
    " {'min': 60, \"max\": 69.99,\"color\":\"orange\"},\n",
    " {'min': 50, \"max\": 59.99,\"color\":\"red\"},\n",
    " {'min': 0, \"max\": 49.99,\"color\":\"firebrick\"}]),\n",
    "    title_opts =opts.TitleOpts(\n",
    "    title='Percentage of senior people(60+) who have received one dose of COVID-19 vaccine in EU/EEA',\n",
    "    subtitle ='until week 41 2021',\n",
    "    title_textstyle_opts=opts.TextStyleOpts(font_size=12)),\n",
    " legend_opts=opts.LegendOpts(is_show=False), \n",
    " )\n",
    "map_3.set_series_opts(label_opts=opts.LabelOpts(is_show=False))\n",
    "map_3.render('map3.html')"
   ]
  },
  {
   "cell_type": "code",
   "execution_count": 37,
   "metadata": {},
   "outputs": [
    {
     "data": {
      "text/html": [
       "\n",
       "        <iframe\n",
       "            width=\"600\"\n",
       "            height=\"460\"\n",
       "            src=\"./map3.html\"\n",
       "            frameborder=\"0\"\n",
       "            allowfullscreen\n",
       "        ></iframe>\n",
       "        "
      ],
      "text/plain": [
       "<IPython.lib.display.IFrame at 0x7fb6d2876cd0>"
      ]
     },
     "execution_count": 37,
     "metadata": {},
     "output_type": "execute_result"
    }
   ],
   "source": [
    "IFrame(src='./map3.html', width=600, height=460)"
   ]
  },
  {
   "cell_type": "code",
   "execution_count": 38,
   "metadata": {},
   "outputs": [
    {
     "data": {
      "text/plain": [
       "'/home/osboxes/Desktop/Project/visualization/map4.html'"
      ]
     },
     "execution_count": 38,
     "metadata": {},
     "output_type": "execute_result"
    }
   ],
   "source": [
    "map_4 =Map(init_opts=opts.InitOpts(width =\"1000px\",height=\"460px\"))\n",
    "map_4.add(\"Percentage of two doses(60+ senior)\",list4,maptype=\"world\"\n",
    "         ,is_map_symbol_show=False)\n",
    "map_4.set_global_opts( \n",
    " visualmap_opts=opts.VisualMapOpts(min_=0,max_=100, is_piecewise=True,pieces=[\n",
    " {'min': 90,\"color\":\"green\"},\n",
    "     {'min': 80, \"max\": 89.99,\"color\":\"limegreen\"},\n",
    " {'min': 70, \"max\": 79.99,\"color\":\"yellow\"},\n",
    " {'min': 60, \"max\": 69.99,\"color\":\"orange\"},\n",
    " {'min': 50, \"max\": 59.99,\"color\":\"red\"},\n",
    " {'min': 0, \"max\": 49.99,\"color\":\"firebrick\"}]),\n",
    "    title_opts =opts.TitleOpts(\n",
    "    title='Percentage of senior people(60+) who have received two doses of COVID-19 vaccine in EU/EEA',\n",
    "    subtitle ='until week 41 2021',\n",
    "    title_textstyle_opts=opts.TextStyleOpts(font_size=12)),\n",
    " legend_opts=opts.LegendOpts(is_show=False), \n",
    " )\n",
    "map_4.set_series_opts(label_opts=opts.LabelOpts(is_show=False))\n",
    "map_4.render('map4.html')"
   ]
  },
  {
   "cell_type": "code",
   "execution_count": 39,
   "metadata": {},
   "outputs": [
    {
     "data": {
      "text/html": [
       "\n",
       "        <iframe\n",
       "            width=\"600\"\n",
       "            height=\"460\"\n",
       "            src=\"./map4.html\"\n",
       "            frameborder=\"0\"\n",
       "            allowfullscreen\n",
       "        ></iframe>\n",
       "        "
      ],
      "text/plain": [
       "<IPython.lib.display.IFrame at 0x7fb6d288b710>"
      ]
     },
     "execution_count": 39,
     "metadata": {},
     "output_type": "execute_result"
    }
   ],
   "source": [
    "IFrame(src='./map4.html', width=600, height=460)"
   ]
  },
  {
   "cell_type": "markdown",
   "metadata": {},
   "source": [
    "## Reference\n",
    "\n",
    "[1] Pyecharts.org. 2021. pyecharts - A Python Echarts Plotting Library built with love.. [online] Available at: <https://pyecharts.org/#/> [Accessed 19 October 2021]."
   ]
  }
 ],
 "metadata": {
  "kernelspec": {
   "display_name": "Python 3 (ipykernel)",
   "language": "python",
   "name": "python3"
  },
  "language_info": {
   "codemirror_mode": {
    "name": "ipython",
    "version": 3
   },
   "file_extension": ".py",
   "mimetype": "text/x-python",
   "name": "python",
   "nbconvert_exporter": "python",
   "pygments_lexer": "ipython3",
   "version": "3.7.6"
  }
 },
 "nbformat": 4,
 "nbformat_minor": 4
}
